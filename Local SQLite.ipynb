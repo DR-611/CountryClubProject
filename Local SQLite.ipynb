{
 "cells": [
  {
   "cell_type": "code",
   "execution_count": 4,
   "id": "da088fab",
   "metadata": {},
   "outputs": [],
   "source": [
    "from sqlalchemy import create_engine\n",
    "import pandas as pd"
   ]
  },
  {
   "cell_type": "code",
   "execution_count": 5,
   "id": "36ca8479",
   "metadata": {},
   "outputs": [],
   "source": [
    "#create DB engine\n",
    "db_engine = create_engine('sqlite:///sqlite_db_pythonsqlite.db')"
   ]
  },
  {
   "cell_type": "code",
   "execution_count": 6,
   "id": "58635064",
   "metadata": {},
   "outputs": [
    {
     "name": "stdout",
     "output_type": "stream",
     "text": [
      "   memid   surname firstname                       address  zipcode  \\\n",
      "0      0     GUEST     GUEST                         GUEST        0   \n",
      "1      1     Smith    Darren    8 Bloomsbury Close, Boston     4321   \n",
      "2      2     Smith     Tracy  8 Bloomsbury Close, New York     4321   \n",
      "3      3    Rownam       Tim        23 Highway Way, Boston    23423   \n",
      "4      4  Joplette    Janice    20 Crossing Road, New York      234   \n",
      "\n",
      "        telephone recommendedby             joindate  \n",
      "0  (000) 000-0000                2012-07-01 00:00:00  \n",
      "1    555-555-5555                2012-07-02 12:02:05  \n",
      "2    555-555-5555                2012-07-02 12:08:23  \n",
      "3  (844) 693-0723                2012-07-03 09:32:15  \n",
      "4  (833) 942-4710             1  2012-07-03 10:25:05  \n"
     ]
    }
   ],
   "source": [
    "#test query\n",
    "df = pd.read_sql_query('SELECT * FROM Members LIMIT 5', db_engine)\n",
    "print(df)"
   ]
  },
  {
   "cell_type": "code",
   "execution_count": 7,
   "id": "57687b90",
   "metadata": {},
   "outputs": [
    {
     "name": "stdout",
     "output_type": "stream",
     "text": [
      "            name  total_revenue\n",
      "0   Table Tennis            180\n",
      "1  Snooker Table            240\n",
      "2     Pool Table            270\n"
     ]
    }
   ],
   "source": [
    "# Q10: Produce a list of facilities with a total revenue less than 1000.\n",
    "#The output of facility name and total revenue, sorted by revenue. Remember\n",
    "# that there's a different cost for guests and members! \n",
    "\n",
    "query_string = 'SELECT \\\n",
    "                f.name,\\\n",
    "                SUM(\\\n",
    "                    CASE\\\n",
    "                        WHEN b.memid = 0 THEN b.slots * f.guestcost ELSE b.slots * f.membercost\\\n",
    "                    END\\\n",
    "                ) as total_revenue\\\n",
    "                FROM Facilities f \\\n",
    "                    JOIN Bookings b ON f.facid = b.facid\\\n",
    "                GROUP BY f.name\\\n",
    "                HAVING total_revenue < 1000\\\n",
    "                ORDER BY total_revenue;'\n",
    "df_10 = pd.read_sql_query(query_string,db_engine)\n",
    "print(df_10)"
   ]
  },
  {
   "cell_type": "code",
   "execution_count": 8,
   "id": "76d1ca3b",
   "metadata": {},
   "outputs": [
    {
     "name": "stdout",
     "output_type": "stream",
     "text": [
      "   Member_firstname    Member_lastname Recommender_firstname  \\\n",
      "0          Florence              Bader                Ponder   \n",
      "1              Anne              Baker                Ponder   \n",
      "2           Timothy              Baker                Jemima   \n",
      "3               Tim             Boothe                   Tim   \n",
      "4            Gerald            Butters                Darren   \n",
      "5              Joan             Coplin               Timothy   \n",
      "6             Erica            Crumpet                 Tracy   \n",
      "7             Nancy               Dare                Janice   \n",
      "8           Matthew            Genting                Gerald   \n",
      "9              John               Hunt             Millicent   \n",
      "10            David              Jones                Janice   \n",
      "11          Douglas              Jones                 David   \n",
      "12           Janice           Joplette                Darren   \n",
      "13             Anna          Mackenzie                Darren   \n",
      "14          Charles               Owen                Darren   \n",
      "15            David             Pinker                Jemima   \n",
      "16        Millicent            Purview                 Tracy   \n",
      "17        Henrietta             Rumney               Matthew   \n",
      "18        Ramnaresh             Sarwin              Florence   \n",
      "19             Jack              Smith                Darren   \n",
      "20           Ponder           Stibbons                Burton   \n",
      "21            Henry  Worthington-Smyth                 Tracy   \n",
      "\n",
      "   Recommender_lastname  \n",
      "0              Stibbons  \n",
      "1              Stibbons  \n",
      "2               Farrell  \n",
      "3                Rownam  \n",
      "4                 Smith  \n",
      "5                 Baker  \n",
      "6                 Smith  \n",
      "7              Joplette  \n",
      "8               Butters  \n",
      "9               Purview  \n",
      "10             Joplette  \n",
      "11                Jones  \n",
      "12                Smith  \n",
      "13                Smith  \n",
      "14                Smith  \n",
      "15              Farrell  \n",
      "16                Smith  \n",
      "17              Genting  \n",
      "18                Bader  \n",
      "19                Smith  \n",
      "20                Tracy  \n",
      "21                Smith  \n"
     ]
    }
   ],
   "source": [
    "# Q11: Produce a report of members and who recommended them in \n",
    "#alphabetic surname,firstname order \n",
    "\n",
    "query_string = \\\n",
    "'SELECT \\\n",
    "    m1.firstname AS Member_firstname, \\\n",
    "    m1.surname AS Member_lastname, \\\n",
    "    m2.firstname AS Recommender_firstname, \\\n",
    "    m2.surname AS Recommender_lastname \\\n",
    "FROM Members m1 \\\n",
    "    INNER JOIN Members m2 ON m1.recommendedby = m2.memid AND m1.recommendedby <> 0 \\\n",
    "ORDER BY \\\n",
    "    Member_lastname, \\\n",
    "    Member_firstname;'\n",
    "\n",
    "df_11 = pd.read_sql_query(query_string, db_engine)\n",
    "print(df_11)"
   ]
  },
  {
   "cell_type": "code",
   "execution_count": 9,
   "id": "eb51e4e6",
   "metadata": {},
   "outputs": [
    {
     "name": "stdout",
     "output_type": "stream",
     "text": [
      "      FacilityName  MemberUsage\n",
      "0  Badminton Court         1086\n",
      "1   Massage Room 1          884\n",
      "2   Massage Room 2           54\n",
      "3       Pool Table          856\n",
      "4    Snooker Table          860\n",
      "5     Squash Court          418\n",
      "6     Table Tennis          794\n",
      "7   Tennis Court 1          957\n",
      "8   Tennis Court 2          882\n"
     ]
    }
   ],
   "source": [
    "# Q12: Find the facilities with their usage by member, but not guests \n",
    "query_string = \\\n",
    "'SELECT \\\n",
    "    f.name AS FacilityName, \\\n",
    "    SUM(b.slots) AS MemberUsage \\\n",
    "FROM Facilities f \\\n",
    "    LEFT JOIN Bookings b ON f.facid = b.facid \\\n",
    "WHERE \\\n",
    "    b.memid <> 0 \\\n",
    "GROUP BY \\\n",
    "    f.name'\n",
    "\n",
    "df_12 = pd.read_sql_query(query_string, db_engine)\n",
    "print(df_12)"
   ]
  },
  {
   "cell_type": "code",
   "execution_count": 10,
   "id": "f74b4ade",
   "metadata": {},
   "outputs": [
    {
     "name": "stdout",
     "output_type": "stream",
     "text": [
      "       FacilityName month  MemberUsage\n",
      "0   Badminton Court    07          165\n",
      "1   Badminton Court    08          414\n",
      "2   Badminton Court    09          507\n",
      "3    Massage Room 1    07          166\n",
      "4    Massage Room 1    08          316\n",
      "5    Massage Room 1    09          402\n",
      "6    Massage Room 2    07            8\n",
      "7    Massage Room 2    08           18\n",
      "8    Massage Room 2    09           28\n",
      "9        Pool Table    07          110\n",
      "10       Pool Table    08          303\n",
      "11       Pool Table    09          443\n",
      "12    Snooker Table    07          140\n",
      "13    Snooker Table    08          316\n",
      "14    Snooker Table    09          404\n",
      "15     Squash Court    07           50\n",
      "16     Squash Court    08          184\n",
      "17     Squash Court    09          184\n",
      "18     Table Tennis    07           98\n",
      "19     Table Tennis    08          296\n",
      "20     Table Tennis    09          400\n",
      "21   Tennis Court 1    07          201\n",
      "22   Tennis Court 1    08          339\n",
      "23   Tennis Court 1    09          417\n",
      "24   Tennis Court 2    07          123\n",
      "25   Tennis Court 2    08          345\n",
      "26   Tennis Court 2    09          414\n"
     ]
    }
   ],
   "source": [
    "# Q13: Find the facilities usage by month, but not guests \n",
    "query_string = \\\n",
    "'SELECT \\\n",
    "    f.name as FacilityName, \\\n",
    "    strftime(\\'%m\\', b.starttime) as month, \\\n",
    "    SUM(b.slots) as MemberUsage \\\n",
    "FROM Facilities f \\\n",
    "    LEFT JOIN Bookings b ON f.facid = b.facid \\\n",
    "WHERE \\\n",
    "    b.memid <> 0 \\\n",
    "GROUP BY \\\n",
    "    FacilityName, \\\n",
    "    month;'\n",
    "\n",
    "df_13 = pd.read_sql_query(query_string,db_engine)\n",
    "print(df_13)"
   ]
  }
 ],
 "metadata": {
  "kernelspec": {
   "display_name": "Python 3",
   "language": "python",
   "name": "python3"
  },
  "language_info": {
   "codemirror_mode": {
    "name": "ipython",
    "version": 3
   },
   "file_extension": ".py",
   "mimetype": "text/x-python",
   "name": "python",
   "nbconvert_exporter": "python",
   "pygments_lexer": "ipython3",
   "version": "3.8.8"
  }
 },
 "nbformat": 4,
 "nbformat_minor": 5
}
